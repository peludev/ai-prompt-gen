{
  "nbformat": 4,
  "nbformat_minor": 0,
  "metadata": {
    "colab": {
      "provenance": [],
      "authorship_tag": "ABX9TyPAvkfsIqEUitjiGWwxvzvi",
      "include_colab_link": true
    },
    "kernelspec": {
      "name": "python3",
      "display_name": "Python 3"
    },
    "language_info": {
      "name": "python"
    }
  },
  "cells": [
    {
      "cell_type": "markdown",
      "metadata": {
        "id": "view-in-github",
        "colab_type": "text"
      },
      "source": [
        "<a href=\"https://colab.research.google.com/github/peludev/ai-prompt-gen/blob/main/EntregaFinal_PedroAcosta.ipynb\" target=\"_parent\"><img src=\"https://colab.research.google.com/assets/colab-badge.svg\" alt=\"Open In Colab\"/></a>"
      ]
    },
    {
      "cell_type": "markdown",
      "source": [
        "# **Gastronomi K**"
      ],
      "metadata": {
        "id": "P9B__h8y4gHp"
      }
    },
    {
      "cell_type": "markdown",
      "source": [
        "---\n",
        "\n",
        "**Resumen**\n",
        "\n",
        "Este proyecto desarrolla un sistema automático que genera recetas de cocina personalizadas basadas en los ingredientes seleccionados por el usuario. Mediante la integración de modelos de inteligencia artificial preexistentes (GPT y DALL-E) y utilizando las APIs de OpenAI, se producen tanto las instrucciones de preparación como una imagen representativa del plato. La ingeniería de prompts desempeñó un papel clave al ajustar las instrucciones para garantizar que las respuestas sean claras, accesibles y adaptadas a principiantes en la cocina. Este enfoque no solo simplifica la experiencia culinaria, sino que también destaca el potencial de la IA para resolver problemas cotidianos de manera práctica, creativa y eficiente.\n",
        "\n",
        "---\n",
        "\n",
        "\n"
      ],
      "metadata": {
        "id": "7t0ySYctcUS-"
      }
    },
    {
      "cell_type": "markdown",
      "source": [
        "## Presentación del Problema"
      ],
      "metadata": {
        "id": "9XUjhDzgeMLg"
      }
    },
    {
      "cell_type": "markdown",
      "source": [
        "Muchas personas, especialmente aquellas inexpertas en la cocina, enfrentan dificultades para preparar platos sabrosos y creativos con los ingredientes que tienen a su disposición en casa. Este problema se intensifica por varios factores:\n",
        "\n",
        "*   Falta de conocimientos culinarios básicos: Los principiantes suelen carecer de experiencia en la combinación de ingredientes, uso de técnicas de cocción o planeación de recetas.\n",
        "*   Tiempo y esfuerzo para buscar recetas: Explorar recetas en internet puede ser abrumador debido a la gran cantidad de información, que no siempre se ajusta a los ingredientes disponibles o a las preferencias del usuario.\n",
        "*   Falta de inspiración: Incluso personas con experiencia pueden encontrarse en situaciones donde les faltan ideas creativas para cocinar algo diferente."
      ],
      "metadata": {
        "id": "x4iKMOKieX5x"
      }
    },
    {
      "cell_type": "markdown",
      "source": [
        "El cocinar en casa tiene un impacto directo en la salud, el presupuesto y el bienestar de las personas, pero estas barreras pueden disuadir a muchos de hacerlo. La falta de confianza o habilidades puede llevar a decisiones menos saludables, como depender de alimentos procesados o de comida rápida."
      ],
      "metadata": {
        "id": "u_mX_l5hf6JE"
      }
    },
    {
      "cell_type": "markdown",
      "source": [
        "En el ámbito social y cultural, cocinar también fomenta la conexión con la familia, amigos y la identidad cultural. Sin embargo, cuando las personas carecen de herramientas para disfrutar del proceso, esta experiencia puede transformarse en algo estresante en lugar de enriquecedor."
      ],
      "metadata": {
        "id": "ZfIiSVCuf-FJ"
      }
    },
    {
      "cell_type": "markdown",
      "source": [
        "El desarrollo de un sistema automático que genere recetas personalizadas y visuales, basado en preferencias e ingredientes disponibles, tiene las siguientes implicaciones positivas:\n",
        "\n",
        "*   Promueve la inclusión culinaria: Ofrece un recurso accesible y amigable para principiantes, ayudándolos a superar las barreras iniciales y desarrollar habilidades básicas en la cocina.\n",
        "*   Fomenta la creatividad: Al combinar texto e imágenes, el sistema inspira a los usuarios a experimentar con nuevas combinaciones y técnicas, animándolos a disfrutar más del proceso de cocinar.\n",
        "*   Optimiza recursos: Ayuda a aprovechar los ingredientes disponibles, reduciendo el desperdicio de alimentos.\n",
        "*   Mejora la accesibilidad tecnológica: Este proyecto aplica tecnologías modernas (IA generativa) en un contexto cotidiano, haciendo que sean más útiles y relevantes para las personas."
      ],
      "metadata": {
        "id": "_viokMvVgRLL"
      }
    },
    {
      "cell_type": "markdown",
      "source": [
        "Con estas bases, este sistema no solo busca resolver un problema inmediato, sino también transformar la percepción de la cocina como un desafío en una oportunidad de disfrute, aprendizaje y creatividad.\n"
      ],
      "metadata": {
        "id": "1DhkAdadgDUi"
      }
    },
    {
      "cell_type": "markdown",
      "source": [
        "## Desarrollo de la Propuesta de Solución\n"
      ],
      "metadata": {
        "id": "lj62L5neiMVl"
      }
    },
    {
      "cell_type": "markdown",
      "source": [
        "El proyecto aprovecha el potencial de la inteligencia artificial generativa para resolver de manera efectiva y creativa el problema identificado. Esto se logra mediante la interacción de dos tipos de modelos: texto-texto (OpenAI GPT) y texto-imagen (DALL-E). A continuación, se detalla cómo cada componente de IA contribuye a la solución:"
      ],
      "metadata": {
        "id": "1xWRa7udjBTw"
      }
    },
    {
      "cell_type": "markdown",
      "source": [
        "### 1. Modelo Texto-Texto (GPT): Generación de Recetas Personalizadas"
      ],
      "metadata": {
        "id": "pua2NqlmjJjF"
      }
    },
    {
      "cell_type": "markdown",
      "source": [
        "Función: Este modelo se encargará de crear recetas detalladas basadas en los ingredientes con los que dispone el usuario.\n",
        "\n",
        "Entrada: El usuario proporcionará una lista con los ingredientes que tiene en casa.\n",
        "\n",
        "Salida: El modelo generará:\n",
        "*   Una descripción coherente que no sólo guía al usuario, sino que también alimenta al modelo de imagen con datos precisos.\n",
        "*   Una lista de pasos organizados y fáciles de entender para preparar la receta.\n",
        "\n",
        "Impacto en la solución: GPT convierte inputs del usuario en una receta clara y personalizada, disminuyendo las barreras para iniciarse en la cocina.\n",
        "\n",
        "\n",
        "\n",
        "\n"
      ],
      "metadata": {
        "id": "XcxnHiFJkCMR"
      }
    },
    {
      "cell_type": "markdown",
      "source": [
        "### 2. Modelo Texto-Imagen (DALL-E): Visualización del Plato Final"
      ],
      "metadata": {
        "id": "wQomfSXbksyq"
      }
    },
    {
      "cell_type": "markdown",
      "source": [
        "Función: Este modelo generará una imagen realista del plato sugerido por GPT, basada en la descripción generada.\n",
        "\n",
        "Entrada: Descripción textual del plato generado por GPT, incluyendo información clave como:\n",
        "*   Ingredientes principales.\n",
        "*   Técnicas de presentación (e.g., “plato servido en un tazón rústico”).\n",
        "*   Colores y texturas esperadas (e.g., “cremoso, con un toque dorado por encima”).\n",
        "\n",
        "Salida: Una imagen visual atractiva y profesional del plato final.\n",
        "\n",
        "Impacto en la solución: La imagen refuerza la confianza del usuario en el resultado esperado, lo que es crucial para principiantes que dependen de una guía visual para saber si están en el camino correcto."
      ],
      "metadata": {
        "id": "o9-yozhpk0bx"
      }
    },
    {
      "cell_type": "markdown",
      "source": [
        "## Justificación de la Viabilidad del Proyecto"
      ],
      "metadata": {
        "id": "dKW07EV6mkbs"
      }
    },
    {
      "cell_type": "markdown",
      "source": [
        "Esta propuesta es técnicamente factible de realizarse dentro de los tiempos del curso y además es viable económicamente. Si bien se consultará a APIs externas, dado que la aplicación es para mi uso personal, el valor a pagar es poco. El mayor costo a pagar es el correspondiente a la generación de la imagen, pero puesto que en este caso no se desea crear una imagen para fondo de escritorio, o algo similar, no es necesario que sea tan grande. Hice una estimación y si ejecuto cada prompt dos veces al día (p.e. para el almuerzo y la cena) durante 30 días, generando imágenes de 512 x 512 con el modelo DALL-E 2, el valor total a pagar sería de $USD 0,56.  Adicionalmente, considero que si más adelante deseo ponerla a disposición de la comunidad, podría implementar otras herramientas como Gemini para disminuir los costos."
      ],
      "metadata": {
        "id": "XRr6wtLHmwgq"
      }
    },
    {
      "cell_type": "markdown",
      "source": [
        "## Objetivos"
      ],
      "metadata": {
        "id": "ueAtIAXQb-Um"
      }
    },
    {
      "cell_type": "markdown",
      "source": [
        "### Objetivo General"
      ],
      "metadata": {
        "id": "6JGe5uvZCs6p"
      }
    },
    {
      "cell_type": "markdown",
      "source": [
        "Implementar la ingeniería de prompts de dos modelos (texto-texto y texto-imagen) para la generación de una receta culinaria."
      ],
      "metadata": {
        "id": "6GXX0wJ6b7Lf"
      }
    },
    {
      "cell_type": "markdown",
      "source": [
        "### Objetivos Específicos"
      ],
      "metadata": {
        "id": "JsVk9_RMClZO"
      }
    },
    {
      "cell_type": "markdown",
      "source": [
        "*   Generar una descripción de un plato considerando los ingredientes escogidos por el usuario.\n",
        "*   Convertir la descripción del plato en una imagen atractiva visualmente.\n",
        "*   Listar los pasos requeridos para preparar el plato sugerido."
      ],
      "metadata": {
        "id": "10WEAXw3C1Ea"
      }
    },
    {
      "cell_type": "markdown",
      "source": [
        "## Metodología"
      ],
      "metadata": {
        "id": "GW03KPTr9EAv"
      }
    },
    {
      "cell_type": "markdown",
      "source": [
        "\n",
        "\n",
        "1.   Recopilación de datos: Obtener los nombres de los ingredientes del plato que se desea preparar.\n",
        "2.   Generación de texto: Utilizar GPT para crear una descripción textual del plato sugerido.\n",
        "3.   Generación de imagen: Utilizar Dall-E para convertir la descripción generada en el paso anterior en una imagen.\n",
        "4.   Procesamiento de texto: Utilizar GPT para enunciar la secuencia de pasos que se debe seguir para preparar el plato sugerido.\n",
        "\n",
        "\n",
        "\n",
        "\n",
        "\n",
        "\n",
        "\n"
      ],
      "metadata": {
        "id": "b_GLv1NU9Q5h"
      }
    },
    {
      "cell_type": "markdown",
      "source": [
        "## Herramientas y Tecnologías"
      ],
      "metadata": {
        "id": "NgkqtfX17XtU"
      }
    },
    {
      "cell_type": "markdown",
      "source": [
        "*   Python\n",
        "*   OpenAI GPT-3.5-turbo para la generación de texto\n",
        "*   OpenAI Dall-E para la generación de imágenes\n",
        "\n",
        "\n",
        "\n",
        "\n"
      ],
      "metadata": {
        "id": "WRYKMoWe7gSF"
      }
    },
    {
      "cell_type": "markdown",
      "source": [
        "## Implementación"
      ],
      "metadata": {
        "id": "LsoR4UKf_cUi"
      }
    },
    {
      "cell_type": "code",
      "source": [
        "# Instalar versión que permita acceder a openai.ChatCompletion\n",
        "!pip install openai==0.28"
      ],
      "metadata": {
        "colab": {
          "base_uri": "https://localhost:8080/"
        },
        "id": "TTDd-VVRSJYm",
        "outputId": "c4c8d710-fcef-4262-a951-9481c173a3f1"
      },
      "execution_count": null,
      "outputs": [
        {
          "output_type": "stream",
          "name": "stdout",
          "text": [
            "Collecting openai==0.28\n",
            "  Downloading openai-0.28.0-py3-none-any.whl.metadata (13 kB)\n",
            "Requirement already satisfied: requests>=2.20 in /usr/local/lib/python3.10/dist-packages (from openai==0.28) (2.32.3)\n",
            "Requirement already satisfied: tqdm in /usr/local/lib/python3.10/dist-packages (from openai==0.28) (4.67.1)\n",
            "Requirement already satisfied: aiohttp in /usr/local/lib/python3.10/dist-packages (from openai==0.28) (3.11.10)\n",
            "Requirement already satisfied: charset-normalizer<4,>=2 in /usr/local/lib/python3.10/dist-packages (from requests>=2.20->openai==0.28) (3.4.0)\n",
            "Requirement already satisfied: idna<4,>=2.5 in /usr/local/lib/python3.10/dist-packages (from requests>=2.20->openai==0.28) (3.10)\n",
            "Requirement already satisfied: urllib3<3,>=1.21.1 in /usr/local/lib/python3.10/dist-packages (from requests>=2.20->openai==0.28) (2.2.3)\n",
            "Requirement already satisfied: certifi>=2017.4.17 in /usr/local/lib/python3.10/dist-packages (from requests>=2.20->openai==0.28) (2024.12.14)\n",
            "Requirement already satisfied: aiohappyeyeballs>=2.3.0 in /usr/local/lib/python3.10/dist-packages (from aiohttp->openai==0.28) (2.4.4)\n",
            "Requirement already satisfied: aiosignal>=1.1.2 in /usr/local/lib/python3.10/dist-packages (from aiohttp->openai==0.28) (1.3.2)\n",
            "Requirement already satisfied: async-timeout<6.0,>=4.0 in /usr/local/lib/python3.10/dist-packages (from aiohttp->openai==0.28) (4.0.3)\n",
            "Requirement already satisfied: attrs>=17.3.0 in /usr/local/lib/python3.10/dist-packages (from aiohttp->openai==0.28) (24.3.0)\n",
            "Requirement already satisfied: frozenlist>=1.1.1 in /usr/local/lib/python3.10/dist-packages (from aiohttp->openai==0.28) (1.5.0)\n",
            "Requirement already satisfied: multidict<7.0,>=4.5 in /usr/local/lib/python3.10/dist-packages (from aiohttp->openai==0.28) (6.1.0)\n",
            "Requirement already satisfied: propcache>=0.2.0 in /usr/local/lib/python3.10/dist-packages (from aiohttp->openai==0.28) (0.2.1)\n",
            "Requirement already satisfied: yarl<2.0,>=1.17.0 in /usr/local/lib/python3.10/dist-packages (from aiohttp->openai==0.28) (1.18.3)\n",
            "Requirement already satisfied: typing-extensions>=4.1.0 in /usr/local/lib/python3.10/dist-packages (from multidict<7.0,>=4.5->aiohttp->openai==0.28) (4.12.2)\n",
            "Downloading openai-0.28.0-py3-none-any.whl (76 kB)\n",
            "\u001b[2K   \u001b[90m━━━━━━━━━━━━━━━━━━━━━━━━━━━━━━━━━━━━━━━━\u001b[0m \u001b[32m76.5/76.5 kB\u001b[0m \u001b[31m2.9 MB/s\u001b[0m eta \u001b[36m0:00:00\u001b[0m\n",
            "\u001b[?25hInstalling collected packages: openai\n",
            "  Attempting uninstall: openai\n",
            "    Found existing installation: openai 1.57.4\n",
            "    Uninstalling openai-1.57.4:\n",
            "      Successfully uninstalled openai-1.57.4\n",
            "Successfully installed openai-0.28.0\n"
          ]
        }
      ]
    },
    {
      "cell_type": "code",
      "execution_count": null,
      "metadata": {
        "id": "BgxaE9h84N20"
      },
      "outputs": [],
      "source": [
        "# Importar dependencias de openAI\n",
        "import openai"
      ]
    },
    {
      "cell_type": "code",
      "source": [
        "# Agregar API Key (tomada de la página de openAI)\n",
        "openai.api_key = \"\""
      ],
      "metadata": {
        "id": "Np8RfYmJ_rhn"
      },
      "execution_count": null,
      "outputs": []
    },
    {
      "cell_type": "code",
      "source": [
        "# Definir función para generar texto\n",
        "def text_generator(context, prompt, maximum):\n",
        "    conversation = [\n",
        "        {\"role\": \"system\", \"content\": context},\n",
        "        {\"role\": \"user\", \"content\": prompt}\n",
        "    ]\n",
        "    response = openai.ChatCompletion.create(\n",
        "        model=\"gpt-3.5-turbo\",\n",
        "        messages=conversation,\n",
        "        max_tokens=maximum\n",
        "    )\n",
        "    message = response['choices'][0]['message']['content'].strip()\n",
        "    return message"
      ],
      "metadata": {
        "id": "6u1l03w513fd"
      },
      "execution_count": null,
      "outputs": []
    },
    {
      "cell_type": "code",
      "source": [
        "# Definir función para generar imágenes\n",
        "def image_generator(prompt):\n",
        "    image_response = openai.Image.create(\n",
        "      prompt=prompt,\n",
        "      n=1,\n",
        "      size=\"512x512\"\n",
        "    )\n",
        "    image_url = image_response['data'][0]['url']\n",
        "    return image_url"
      ],
      "metadata": {
        "id": "-hRdMO6Gq4Yx"
      },
      "execution_count": null,
      "outputs": []
    },
    {
      "cell_type": "code",
      "source": [
        "# Solicitar ingredientes del plato al usuario\n",
        "ingredientes = input(\"Ingrese los ingredientes: \") #p.e. arroz, pollo, cebolla, pepino, tomate\""
      ],
      "metadata": {
        "id": "1BZYqRiM_8kQ",
        "colab": {
          "base_uri": "https://localhost:8080/"
        },
        "outputId": "0059236f-8568-42ee-cddd-aaf5984914a0"
      },
      "execution_count": null,
      "outputs": [
        {
          "name": "stdout",
          "output_type": "stream",
          "text": [
            "Ingrese los ingredientes: salmón, limón, arroz, coco, plátano\n"
          ]
        }
      ]
    },
    {
      "cell_type": "code",
      "source": [
        "# Establecer el contexto del prompt\n",
        "contexto_1 = \"Actúa como chef profesional. Con los ingredientes dados, describe un plato en máximo 20 palabras. Sé preciso, conciso y creativo.\"\n",
        "prompt_1 = f\"Ingredientes: {ingredientes}\""
      ],
      "metadata": {
        "id": "85ogyWq-nux0"
      },
      "execution_count": null,
      "outputs": []
    },
    {
      "cell_type": "code",
      "source": [
        "# Generar descripción del plato y almacenarla en una variable para usarla posteriormente\n",
        "platillo = text_generator(contexto_1, prompt_1, 40)\n",
        "\n",
        "# Mostrar respuesta\n",
        "print(\"Plato sugerido: \", platillo)"
      ],
      "metadata": {
        "id": "5NZCyhJUApTz",
        "colab": {
          "base_uri": "https://localhost:8080/"
        },
        "outputId": "6d293efd-52a2-4017-9667-c64a0a46e612"
      },
      "execution_count": null,
      "outputs": [
        {
          "output_type": "stream",
          "name": "stdout",
          "text": [
            "Plato sugerido:  Salmón al coco con arroz de limón y plátano caramelizado. Una explosión de sabores tropicales en cada bocado.\n"
          ]
        }
      ]
    },
    {
      "cell_type": "code",
      "source": [
        "# Utilizar la respuesta para el prompt de la imagen\n",
        "image_prompt = f\"Genera una imagen fotorrealista, visualmente atractiva, con colores vibrantes, texturas detalladas, estética casera y luz natural cálida, que inspire confort, para el siguiente plato: {platillo}\"\n",
        "\n",
        "# Generar imagen del plato sugerido\n",
        "imagen = image_generator(image_prompt)\n",
        "\n",
        "# Imprimir URL de la imagen\n",
        "print(imagen)"
      ],
      "metadata": {
        "id": "UxrjJZtvuJKv",
        "colab": {
          "base_uri": "https://localhost:8080/"
        },
        "outputId": "d75153c7-7d89-49ba-8710-afde777da114"
      },
      "execution_count": null,
      "outputs": [
        {
          "output_type": "stream",
          "name": "stdout",
          "text": [
            "https://oaidalleapiprodscus.blob.core.windows.net/private/org-0ckmmTx84yJDvEcsiju3Q5A6/user-OuWGkvieyfn7oZBtJKfaSZWQ/img-JF5j2HfqBOtHE1ydGtAFjmwL.png?st=2025-01-01T03%3A52%3A40Z&se=2025-01-01T05%3A52%3A40Z&sp=r&sv=2024-08-04&sr=b&rscd=inline&rsct=image/png&skoid=d505667d-d6c1-4a0a-bac7-5c84a87759f8&sktid=a48cca56-e6da-484e-a814-9c849652bcb3&skt=2024-12-31T22%3A12%3A54Z&ske=2025-01-01T22%3A12%3A54Z&sks=b&skv=2024-08-04&sig=Rj1MGzfyp7LCh/58sLp7IbLl7XFylxd%2B5A%2BsVun87Ew%3D\n"
          ]
        }
      ]
    },
    {
      "cell_type": "code",
      "source": [
        "# Establecer el contexto del prompt para crear la receta del plato\n",
        "contexto_2 = \"Actúa como chef profesional. Enumera pasos simples y claros para preparar este platillo en máximo 180 palabras. Usa lenguaje apto para principiantes.\"\n",
        "prompt_2 = f\"Platillo: {platillo}\"\n",
        "\n",
        "# Generar e imprimir instrucciones de preparación\n",
        "receta = text_generator(contexto_2, prompt_2, 360)\n",
        "print(\"Receta: \", receta)"
      ],
      "metadata": {
        "colab": {
          "base_uri": "https://localhost:8080/"
        },
        "id": "b60GOivzi73M",
        "outputId": "04fd78dd-5de0-44f8-d732-c024cb19e3a8"
      },
      "execution_count": null,
      "outputs": [
        {
          "output_type": "stream",
          "name": "stdout",
          "text": [
            "Receta:  1. Para el salmón al coco, mezcla harina de coco con sal. Pasa los filetes de salmón por la mezcla y fríelos en aceite caliente hasta que estén dorados y crujientes.\n",
            "\n",
            "2. Cocina el arroz en agua con sal y añade jugo y ralladura de limón al final de la cocción. Mezcla bien y reserva.\n",
            "\n",
            "3. Para el plátano caramelizado, corta plátanos en rodajas y cocina en una sartén con mantequilla y azúcar hasta que estén dorados y caramelizados.\n",
            "\n",
            "4. Sirve el salmón al coco sobre una cama de arroz de limón y acompaña con las rodajas de plátano caramelizado.\n",
            "\n",
            "¡Disfruta de este exquisito platillo tropical!\n"
          ]
        }
      ]
    },
    {
      "cell_type": "markdown",
      "source": [
        "## Resultados"
      ],
      "metadata": {
        "id": "lLLxonxlMH2c"
      }
    },
    {
      "cell_type": "markdown",
      "source": [
        "Gracias a herramientas de inteligencia artificial, se logró generar un plato, sus instrucciones de preparación y una imagen visualmente atractiva del mismo. Los prompts para el modelo texto a texto se diseñaron incorporando un contexto claro y se ajustaron mediante pruebas hasta obtener respuestas satisfactorias. Como resultado, el sistema produce una descripción precisa del plato y una lista de pasos organizados y fáciles de seguir, adecuada para principiantes de cocina.\n",
        "\n",
        "El diseño del prompt para el modelo texto a imagen requirió más iteraciones para lograr una representación visual fiel y atractiva del plato sugerido. Ajustar el prompt de DALL-E fue clave para alinear las imágenes generadas con las descripciones del modelo texto a texto, asegurando coherencia entre ambos resultados.\n",
        "\n",
        "La integración entre texto y visualización demostró ser esencial. El modelo de texto no solo guía al usuario con instrucciones claras, sino que también proporciona datos precisos para generar imágenes realistas del plato. Además, si el usuario no queda satisfecho con el resultado visual, el sistema puede ajustar la receta o la presentación, creando un ciclo de refinamiento que mejora la experiencia general."
      ],
      "metadata": {
        "id": "sCESHI4WMKIw"
      }
    },
    {
      "cell_type": "markdown",
      "source": [
        "## Conclusiones"
      ],
      "metadata": {
        "id": "qwijneXGMNTm"
      }
    },
    {
      "cell_type": "markdown",
      "source": [
        "\n",
        "\n",
        "*   Este trabajo demuestra cómo la inteligencia artificial puede transformar actividades diarias, integrando capacidades generativas de texto e imagen para simplificar y enriquecer experiencias como cocinar.\n",
        "*   La solución ilustra cómo la IA puede democratizar el acceso a herramientas avanzadas, haciéndolas relevantes y útiles para el público general, incluso para quienes tienen poca o ninguna experiencia culinaria.\n",
        "*   Aunque actualmente el sistema se limita a generar recetas a partir de ingredientes proporcionados, el enfoque tiene un alto potencial de expansión. Funcionalidades como preferencias dietéticas (vegetariano, sin gluten) o niveles de dificultad (fácil, medio, avanzado) pueden añadirse para ofrecer una experiencia más personalizada.\n",
        "*   Este proyecto no solo pone sobre la mesa el papel de la IA en resolver problemas prácticos, sino también su capacidad para fomentar la creatividad y hacer más accesibles tareas que a priori podrían parecer complejas."
      ],
      "metadata": {
        "id": "3c02baPxMQe3"
      }
    },
    {
      "cell_type": "markdown",
      "source": [
        "## Referencias"
      ],
      "metadata": {
        "id": "spl5LEBVM003"
      }
    },
    {
      "cell_type": "markdown",
      "source": [
        "\n",
        "*   [The official Python library for the OpenAI API](https://github.com/openai/openai-python)\n",
        "\n",
        "\n"
      ],
      "metadata": {
        "id": "YBPUqDgVM3If"
      }
    }
  ]
}